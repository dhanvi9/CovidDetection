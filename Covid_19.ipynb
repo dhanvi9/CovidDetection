{
  "nbformat": 4,
  "nbformat_minor": 0,
  "metadata": {
    "colab": {
      "name": "Covid-19.ipynb",
      "provenance": []
    },
    "kernelspec": {
      "name": "python3",
      "display_name": "Python 3"
    },
    "accelerator": "GPU"
  },
  "cells": [
    {
      "cell_type": "code",
      "metadata": {
        "colab": {
          "base_uri": "https://localhost:8080/"
        },
        "id": "030o6GTvLv31",
        "outputId": "33958b02-9465-4c82-8bc0-f0970ad8b8c1"
      },
      "source": [
        "from google.colab import drive\r\n",
        "drive.mount('/content/gdrive')"
      ],
      "execution_count": null,
      "outputs": [
        {
          "output_type": "stream",
          "text": [
            "Mounted at /content/gdrive\n"
          ],
          "name": "stdout"
        }
      ]
    },
    {
      "cell_type": "code",
      "metadata": {
        "id": "4zLP-KJxMfSE"
      },
      "source": [
        "TRAIN_PATH = \"/content/gdrive/MyDrive/COVID_DATASET/Train\"\r\n",
        "VAL_PATH = \"/content/gdrive/MyDrive/COVID_DATASET/Val\""
      ],
      "execution_count": null,
      "outputs": []
    },
    {
      "cell_type": "code",
      "metadata": {
        "id": "qGW6hYMaebyY"
      },
      "source": [
        "import numpy as np\r\n",
        "import matplotlib.pyplot as plt\r\n",
        "import keras\r\n",
        "from keras.layers import *\r\n",
        "from keras.models import * \r\n",
        "from keras.preprocessing import image"
      ],
      "execution_count": null,
      "outputs": []
    },
    {
      "cell_type": "code",
      "metadata": {
        "id": "25QIhZtuecGG"
      },
      "source": [
        "# CNN Based Model in Keras\r\n",
        "\r\n",
        "model = Sequential()\r\n",
        "model.add(Conv2D(32,kernel_size=(3,3),activation='relu',input_shape=(224,224,3))) #images are rgb\r\n",
        "model.add(Conv2D(64,(3,3),activation='relu')) #increases non-lineraity ('relu') and reduce the number of paramters\r\n",
        "model.add(MaxPooling2D(pool_size=(2,2)))\r\n",
        "model.add(Dropout(0.25))\r\n",
        "\r\n",
        "model.add(Conv2D(64,(3,3),activation='relu'))\r\n",
        "model.add(MaxPooling2D(pool_size=(2,2)))\r\n",
        "model.add(Dropout(0.25))\r\n",
        "\r\n",
        "model.add(Conv2D(128,(3,3),activation='relu'))\r\n",
        "model.add(MaxPooling2D(pool_size=(2,2)))\r\n",
        "model.add(Dropout(0.25))\r\n",
        "\r\n",
        "model.add(Flatten())\r\n",
        "model.add(Dense(64,activation='relu'))\r\n",
        "model.add(Dropout(0.5))\r\n",
        "model.add(Dense(1,activation='sigmoid'))\r\n",
        "\r\n",
        "model.compile(loss=keras.losses.binary_crossentropy,optimizer='adam',metrics=['accuracy'])"
      ],
      "execution_count": null,
      "outputs": []
    },
    {
      "cell_type": "code",
      "metadata": {
        "colab": {
          "base_uri": "https://localhost:8080/"
        },
        "id": "45LHm2oOecTG",
        "outputId": "a0006f6d-5f9b-4f9a-e0f1-d6e7d8b1f68c"
      },
      "source": [
        "model.summary()"
      ],
      "execution_count": null,
      "outputs": [
        {
          "output_type": "stream",
          "text": [
            "Model: \"sequential\"\n",
            "_________________________________________________________________\n",
            "Layer (type)                 Output Shape              Param #   \n",
            "=================================================================\n",
            "conv2d (Conv2D)              (None, 222, 222, 32)      896       \n",
            "_________________________________________________________________\n",
            "conv2d_1 (Conv2D)            (None, 220, 220, 64)      18496     \n",
            "_________________________________________________________________\n",
            "max_pooling2d (MaxPooling2D) (None, 110, 110, 64)      0         \n",
            "_________________________________________________________________\n",
            "dropout (Dropout)            (None, 110, 110, 64)      0         \n",
            "_________________________________________________________________\n",
            "conv2d_2 (Conv2D)            (None, 108, 108, 64)      36928     \n",
            "_________________________________________________________________\n",
            "max_pooling2d_1 (MaxPooling2 (None, 54, 54, 64)        0         \n",
            "_________________________________________________________________\n",
            "dropout_1 (Dropout)          (None, 54, 54, 64)        0         \n",
            "_________________________________________________________________\n",
            "conv2d_3 (Conv2D)            (None, 52, 52, 128)       73856     \n",
            "_________________________________________________________________\n",
            "max_pooling2d_2 (MaxPooling2 (None, 26, 26, 128)       0         \n",
            "_________________________________________________________________\n",
            "dropout_2 (Dropout)          (None, 26, 26, 128)       0         \n",
            "_________________________________________________________________\n",
            "flatten (Flatten)            (None, 86528)             0         \n",
            "_________________________________________________________________\n",
            "dense (Dense)                (None, 64)                5537856   \n",
            "_________________________________________________________________\n",
            "dropout_3 (Dropout)          (None, 64)                0         \n",
            "_________________________________________________________________\n",
            "dense_1 (Dense)              (None, 1)                 65        \n",
            "=================================================================\n",
            "Total params: 5,668,097\n",
            "Trainable params: 5,668,097\n",
            "Non-trainable params: 0\n",
            "_________________________________________________________________\n"
          ],
          "name": "stdout"
        }
      ]
    },
    {
      "cell_type": "code",
      "metadata": {
        "id": "XNosywaIecnW"
      },
      "source": [
        "# Train from scratch\r\n",
        "train_datagen = image.ImageDataGenerator(\r\n",
        "    rescale = 1.0/255,  #normalization leads to early convergence our wrights starts from 0 so reaching 0.0 to 0.XX is easy\r\n",
        "    shear_range = 0.2,\r\n",
        "    zoom_range = 0.2,\r\n",
        "    horizontal_flip = True,\r\n",
        ")\r\n",
        "\r\n",
        "val_dataset = image.ImageDataGenerator(rescale=1.0/255)\r\n",
        "test_dataset = image.ImageDataGenerator(rescale=1.0/255)"
      ],
      "execution_count": null,
      "outputs": []
    },
    {
      "cell_type": "code",
      "metadata": {
        "colab": {
          "base_uri": "https://localhost:8080/"
        },
        "id": "dmGKecv0ecyO",
        "outputId": "d3532e76-6877-42fa-b7a3-590dcf84a7e7"
      },
      "source": [
        "train_generator = train_datagen.flow_from_directory(\r\n",
        "    '/content/gdrive/MyDrive/COVID_DATASET/Train',\r\n",
        "    target_size = (224,224),\r\n",
        "    batch_size = 32,\r\n",
        "    class_mode = 'binary')\r\n"
      ],
      "execution_count": null,
      "outputs": [
        {
          "output_type": "stream",
          "text": [
            "Found 280 images belonging to 2 classes.\n"
          ],
          "name": "stdout"
        }
      ]
    },
    {
      "cell_type": "code",
      "metadata": {
        "colab": {
          "base_uri": "https://localhost:8080/"
        },
        "id": "AmN3-YGfldEg",
        "outputId": "8c20fda4-3446-4e65-c444-57f2adcfc1e5"
      },
      "source": [
        "validation_generator = val_dataset.flow_from_directory(\r\n",
        "    '/content/gdrive/MyDrive/COVID_DATASET/Val',\r\n",
        "    target_size = (224,224),\r\n",
        "    batch_size = 32,\r\n",
        "    class_mode = 'binary')\r\n",
        "\r\n",
        "\r\n",
        "test_generator = test_dataset.flow_from_directory(\r\n",
        "    '/content/gdrive/MyDrive/COVID_DATASET/Test',\r\n",
        "    target_size = (224,224),\r\n",
        "    batch_size = 32,\r\n",
        "    class_mode = 'binary')"
      ],
      "execution_count": null,
      "outputs": [
        {
          "output_type": "stream",
          "text": [
            "Found 80 images belonging to 2 classes.\n",
            "Found 32 images belonging to 2 classes.\n"
          ],
          "name": "stdout"
        }
      ]
    },
    {
      "cell_type": "code",
      "metadata": {
        "colab": {
          "base_uri": "https://localhost:8080/"
        },
        "id": "LH_sL5Itec8n",
        "outputId": "37a245ab-ccc8-4d92-b7cd-c7e5c3765bd0"
      },
      "source": [
        "train_generator.class_indices"
      ],
      "execution_count": null,
      "outputs": [
        {
          "output_type": "execute_result",
          "data": {
            "text/plain": [
              "{'Covid': 0, 'Normal': 1}"
            ]
          },
          "metadata": {
            "tags": []
          },
          "execution_count": 9
        }
      ]
    },
    {
      "cell_type": "code",
      "metadata": {
        "colab": {
          "base_uri": "https://localhost:8080/"
        },
        "id": "6AXLXzl1edHW",
        "outputId": "3a82c2f4-c416-4238-d6a5-9c88679c2d5c"
      },
      "source": [
        "hist = model.fit_generator(\r\n",
        "    train_generator,\r\n",
        "    steps_per_epoch=9,\r\n",
        "    epochs = 12,\r\n",
        "    validation_data = validation_generator,\r\n",
        "    validation_steps=3\r\n",
        ")"
      ],
      "execution_count": null,
      "outputs": [
        {
          "output_type": "stream",
          "text": [
            "/usr/local/lib/python3.6/dist-packages/tensorflow/python/keras/engine/training.py:1844: UserWarning: `Model.fit_generator` is deprecated and will be removed in a future version. Please use `Model.fit`, which supports generators.\n",
            "  warnings.warn('`Model.fit_generator` is deprecated and '\n"
          ],
          "name": "stderr"
        },
        {
          "output_type": "stream",
          "text": [
            "Epoch 1/12\n",
            "9/9 [==============================] - 89s 9s/step - loss: 0.8746 - accuracy: 0.5454 - val_loss: 0.6907 - val_accuracy: 0.5000\n",
            "Epoch 2/12\n",
            "9/9 [==============================] - 10s 1s/step - loss: 0.6267 - accuracy: 0.6263 - val_loss: 0.4884 - val_accuracy: 0.7750\n",
            "Epoch 3/12\n",
            "9/9 [==============================] - 10s 1s/step - loss: 0.4356 - accuracy: 0.7995 - val_loss: 0.6073 - val_accuracy: 0.9750\n",
            "Epoch 4/12\n",
            "9/9 [==============================] - 10s 1s/step - loss: 0.3826 - accuracy: 0.8816 - val_loss: 0.2011 - val_accuracy: 0.9500\n",
            "Epoch 5/12\n",
            "9/9 [==============================] - 10s 1s/step - loss: 0.2342 - accuracy: 0.9123 - val_loss: 0.3014 - val_accuracy: 0.9000\n",
            "Epoch 6/12\n",
            "9/9 [==============================] - 10s 1s/step - loss: 0.3031 - accuracy: 0.9069 - val_loss: 0.2068 - val_accuracy: 0.9750\n",
            "Epoch 7/12\n",
            "9/9 [==============================] - 10s 1s/step - loss: 0.2091 - accuracy: 0.9446 - val_loss: 0.5009 - val_accuracy: 0.6750\n",
            "Epoch 8/12\n",
            "9/9 [==============================] - 10s 1s/step - loss: 0.1778 - accuracy: 0.9280 - val_loss: 0.0911 - val_accuracy: 0.9750\n",
            "Epoch 9/12\n",
            "9/9 [==============================] - 10s 1s/step - loss: 0.1548 - accuracy: 0.9487 - val_loss: 0.1163 - val_accuracy: 0.9750\n",
            "Epoch 10/12\n",
            "9/9 [==============================] - 10s 1s/step - loss: 0.1361 - accuracy: 0.9385 - val_loss: 0.1989 - val_accuracy: 0.9250\n",
            "Epoch 11/12\n",
            "9/9 [==============================] - 10s 1s/step - loss: 0.2434 - accuracy: 0.8984 - val_loss: 0.1389 - val_accuracy: 0.9625\n",
            "Epoch 12/12\n",
            "9/9 [==============================] - 10s 1s/step - loss: 0.1588 - accuracy: 0.9600 - val_loss: 0.1370 - val_accuracy: 0.9875\n"
          ],
          "name": "stdout"
        }
      ]
    },
    {
      "cell_type": "code",
      "metadata": {
        "id": "uOfhXcgHlh3F"
      },
      "source": [
        "acc = hist.history['accuracy']\r\n",
        "val_acc = hist.history['val_accuracy']\r\n",
        "loss = hist.history['loss']\r\n",
        "val_loss= hist.history['val_loss']"
      ],
      "execution_count": null,
      "outputs": []
    },
    {
      "cell_type": "code",
      "metadata": {
        "colab": {
          "base_uri": "https://localhost:8080/",
          "height": 347
        },
        "id": "pQbrQg3vlh_M",
        "outputId": "8fa67266-30c7-415b-ff52-09bd878221ed"
      },
      "source": [
        "plt.style.use(\"seaborn\")\r\n",
        "plt.plot(acc,label=\"accuracy\")\r\n",
        "plt.plot(val_acc,label=\"val acc\")\r\n",
        "plt.plot(loss,label='loss')\r\n",
        "plt.plot(val_loss,label='val loss')\r\n",
        "plt.legend()\r\n",
        "plt.show()"
      ],
      "execution_count": null,
      "outputs": [
        {
          "output_type": "display_data",
          "data": {
            "image/png": "[encoded data removed]",
            "text/plain": [
              "<Figure size 576x396 with 1 Axes>"
            ]
          },
          "metadata": {
            "tags": []
          }
        }
      ]
    },
    {
      "cell_type": "code",
      "metadata": {
        "colab": {
          "base_uri": "https://localhost:8080/"
        },
        "id": "CXKu1dTTs_44",
        "outputId": "32d0b4e3-f6d7-4d77-9f9f-4b1f3442d615"
      },
      "source": [
        "model.evaluate(train_generator)\r\n",
        "model.evaluate(validation_generator)\r\n"
      ],
      "execution_count": null,
      "outputs": [
        {
          "output_type": "stream",
          "text": [
            "9/9 [==============================] - 9s 953ms/step - loss: 0.1489 - accuracy: 0.9714\n",
            "3/3 [==============================] - 1s 390ms/step - loss: 0.1370 - accuracy: 0.9875\n"
          ],
          "name": "stdout"
        },
        {
          "output_type": "execute_result",
          "data": {
            "text/plain": [
              "[0.13700759410858154, 0.987500011920929]"
            ]
          },
          "metadata": {
            "tags": []
          },
          "execution_count": 13
        }
      ]
    },
    {
      "cell_type": "code",
      "metadata": {
        "colab": {
          "base_uri": "https://localhost:8080/"
        },
        "id": "2K_WJz_jCITu",
        "outputId": "1b3fea38-8675-487c-d26e-d2a82a011d35"
      },
      "source": [
        "model.evaluate(test_generator)"
      ],
      "execution_count": null,
      "outputs": [
        {
          "output_type": "stream",
          "text": [
            "1/1 [==============================] - 1s 574ms/step - loss: 0.1678 - accuracy: 0.9688\n"
          ],
          "name": "stdout"
        },
        {
          "output_type": "execute_result",
          "data": {
            "text/plain": [
              "[0.16775977611541748, 0.96875]"
            ]
          },
          "metadata": {
            "tags": []
          },
          "execution_count": 14
        }
      ]
    },
    {
      "cell_type": "code",
      "metadata": {
        "id": "857CNpuJOGSe"
      },
      "source": [
        "model.save(\"model_adv.h5\")"
      ],
      "execution_count": null,
      "outputs": []
    },
    {
      "cell_type": "code",
      "metadata": {
        "id": "FnmjLjpVPgaR"
      },
      "source": [
        ""
      ],
      "execution_count": null,
      "outputs": []
    }
  ]
}